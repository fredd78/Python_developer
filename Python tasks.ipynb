{
 "cells": [
  {
   "cell_type": "markdown",
   "metadata": {},
   "source": [
    "### Task 1:\n",
    "Дан массив чисел, состоящий из некоторого количества подряд идущих единиц, за которыми следует какое-то количество подряд идущих нулей: 111111111111111111111111100000000. \n",
    "Найти индекс первого нуля (то есть найти такое место, где заканчиваются единицы, и начинаются нули).  \n",
    "Какова сложность вашего алгоритма?  \n",
    "print(task(\"11111111111111111111111100000000\"))   \n",
    "#>> OUT: 24... "
   ]
  },
  {
   "cell_type": "code",
   "execution_count": 6,
   "metadata": {},
   "outputs": [
    {
     "name": "stdout",
     "output_type": "stream",
     "text": [
      "24\n"
     ]
    }
   ],
   "source": [
    "def task(array):\n",
    "    for i in range(len(array)):\n",
    "        if array[i] == '0':\n",
    "            return i\n",
    "         \n",
    "print(task(\"11111111111111111111111100000000\"))\n",
    "\n",
    "# Сложность алгоритма: O(N)"
   ]
  },
  {
   "cell_type": "markdown",
   "metadata": {},
   "source": [
    "### Task 2:  \n",
    "В нашей школе мы не можем разглашать персональные данные пользователей, но чтобы преподаватель и ученик смогли объяснить нашей поддержке, кого они имеют в виду (у преподавателей, например, часто учится несколько Саш), мы генерируем пользователям уникальные и легко произносимые имена. Имя у нас состоит из прилагательного, имени животного и двузначной цифры. В итоге получается, например, \"Перламутровый лосось 77\". Для генерации таких имен мы и решали следующую задачу:  \n",
    "Получить с русской википедии список всех животных (Категория:Животные по алфавиту) и вывести количество животных на каждую букву алфавита. Результат должен получиться в следующем виде:  \n",
    "А: 642  \n",
    "Б: 412  \n",
    "В:...."
   ]
  },
  {
   "cell_type": "code",
   "execution_count": 29,
   "metadata": {},
   "outputs": [
    {
     "name": "stdout",
     "output_type": "stream",
     "text": [
      "А: 1090\n",
      "Б: 1504\n",
      "В: 489\n",
      "Г: 937\n",
      "Д: 706\n",
      "Е: 102\n",
      "Ж: 381\n",
      "З: 583\n",
      "И: 325\n",
      "Й: 3\n",
      "К: 2078\n",
      "Л: 665\n",
      "М: 1182\n",
      "Н: 433\n",
      "О: 729\n",
      "П: 1645\n",
      "Р: 527\n",
      "С: 1662\n",
      "Т: 914\n",
      "У: 227\n",
      "Ф: 171\n",
      "Х: 253\n",
      "Ц: 206\n",
      "Ч: 627\n",
      "Ш: 259\n",
      "Щ: 141\n",
      "Э: 195\n",
      "Ю: 125\n",
      "Я: 194\n",
      "A: 2589\n",
      "B: 802\n",
      "C: 2086\n",
      "D: 888\n",
      "E: 853\n",
      "F: 187\n",
      "G: 610\n",
      "H: 886\n",
      "I: 284\n",
      "J: 75\n",
      "K: 1081\n",
      "L: 881\n",
      "M: 1495\n",
      "N: 709\n",
      "O: 726\n",
      "P: 2290\n",
      "Q: 36\n",
      "R: 379\n",
      "S: 1510\n",
      "T: 1023\n",
      "U: 127\n",
      "V: 159\n",
      "W: 82\n",
      "X: 125\n",
      "Y: 39\n",
      "Z: 210\n"
     ]
    }
   ],
   "source": [
    "import requests\n",
    "from bs4 import BeautifulSoup\n",
    "\n",
    "latin = [chr(x) for x in range(ord('A'), ord('Z') + 1)]\n",
    "rus1 = [chr(x) for x in range(ord('А'), ord('Щ') + 1)]\n",
    "rus2 = [chr(x) for x in range(ord('Э'), ord('Я') + 1)]\n",
    "letters = rus1 + rus2 + latin\n",
    "\n",
    "def items(l):\n",
    "    if (ord(l) >= 1056) | (ord(l) < 1000):\n",
    "        m = soup.find('ul').find_all('a')\n",
    "    elif ord(l) >= 1048:\n",
    "        m = soup.find_all('ul')[1].find_all('a')\n",
    "    else:\n",
    "        m = soup.find_all('ul')[2].find_all('a')\n",
    "    return m\n",
    "\n",
    "def make_url():\n",
    "    return 'https://ru.wikipedia.org' + \\\n",
    "          soup.find('div', id='mw-pages').find_all('a')[1].get('href')\n",
    "\n",
    "latin = [chr(x) for x in range(ord('A'), ord('Z') + 1)]\n",
    "rus1 = [chr(x) for x in range(ord('А'), ord('Щ') + 1)]\n",
    "rus2 = [chr(x) for x in range(ord('Э'), ord('Я') + 1)]\n",
    "letters = rus1 + rus2 + latin\n",
    "\n",
    "url = 'http://ru.wikipedia.org/w/index.php?title=Категория:Животные_по_алфавиту'\n",
    "r = requests.get(url)\n",
    "dic = {'А': 200}\n",
    "soup = BeautifulSoup(r.text, 'lxml')\n",
    "url = 'https://ru.wikipedia.org' + \\\n",
    "         soup.find('div', id='mw-pages').find_all('a')[0].get('href')\n",
    "\n",
    "dic = {}\n",
    "for first_letter in letters:\n",
    "\n",
    "    url = 'http://ru.wikipedia.org/w/index.php?title=Категория:Животные_по_алфавиту&from=' + first_letter\n",
    "    r = requests.get(url)\n",
    "    soup = BeautifulSoup(r.text, 'lxml')\n",
    "    list = items(first_letter)\n",
    "    dic[first_letter] = 0\n",
    "    \n",
    "    while(len(list) == 200):\n",
    "        dic[first_letter] += 200\n",
    "        url = make_url()\n",
    "        r = requests.get(url)\n",
    "        soup = BeautifulSoup(r.text, 'lxml')\n",
    "        list = items(first_letter)\n",
    "        if first_letter == 'Z':\n",
    "            break\n",
    "        \n",
    "    dic[first_letter] += len(list)\n",
    "    print(f'{first_letter}: {dic[first_letter]}')"
   ]
  },
  {
   "cell_type": "markdown",
   "metadata": {},
   "source": [
    "### Task 3:\n",
    "Мы сохраняем время присутствия каждого пользователя на уроке  виде интервалов. В функцию передается словарь, содержащий три списка с таймстемпами (время в секундах): — lesson – начало и конец урока \n",
    "— pupil – интервалы присутствия ученика \n",
    "— tutor – интервалы присутствия учителя \n",
    "Интервалы устроены следующим образом – это всегда список из четного количества элементов. Под четными индексами (начиная с 0) время входа на урок, под нечетными - время выхода с урока.\n",
    "Нужно написать функцию, которая получает на вход словарь с интервалами и возвращает время общего присутствия ученика и учителя на уроке (в секундах).   \n",
    "Будет плюсом: Написать WEB API с единственным endpoint’ом для вызова этой функции.  \n",
    "\n",
    "def appearance(intervals):   \n",
    "    pass    \n",
    "\n",
    "print(appearance({   \n",
    "  'lesson': [1594663200, 1594666800],   \n",
    "  'pupil': [1594663340, 1594663389, 1594663390, 1594663395, 1594663396, 1594666472],   \n",
    "  'tutor': [1594663290, 1594663430, 1594663443, 1594666473]   \n",
    "}))   \n",
    "#>> OUT: 31...   \n",
    " \n"
   ]
  },
  {
   "cell_type": "code",
   "execution_count": 17,
   "metadata": {},
   "outputs": [],
   "source": [
    "intervals = {\n",
    "'lesson': [1594663200, 1594666800],\n",
    "'pupil': [1594663340, 1594663389, 1594663390, 1594663395, 1594663396, 1594666472],\n",
    "'tutor': [1594663290, 1594663430, 1594663443, 1594666473]\n",
    "}\n",
    "def appearance(intervals):\n",
    "\n",
    "    lesson = intervals['lesson']\n",
    "    pupil = intervals['pupil']\n",
    "    tutor = intervals['tutor']    \n",
    "    t_p = []\n",
    "    score = 0\n",
    "    \n",
    "    for p in range(0, len(pupil), 2):\n",
    "        \n",
    "        for t in range(0, len(tutor), 2):\n",
    "            \n",
    "            if tutor[t] < pupil[p]:\n",
    "                if tutor[t+1] < pupil[p]:\n",
    "                    continue\n",
    "                elif tutor[t+1] <= pupil[p+1]:\n",
    "                    t_p.extend([pupil[p], tutor[t+1]])\n",
    "                else:\n",
    "                    t_p.extend([pupil[p], pupil[p+1]])\n",
    "            else:\n",
    "                if tutor[t] > pupil[p+1]:\n",
    "                    break\n",
    "                elif tutor[t+1] >= pupil[p+1]:\n",
    "                    t_p.extend([tutor[t], pupil[p+1]])\n",
    "                else:\n",
    "                    t_p.extend([tutor[t], tutor[t+1]])\n",
    "                \n",
    "    for tp in range(0, len(t_p), 2):\n",
    "        \n",
    "        if t_p[tp] < lesson[0]:\n",
    "            \n",
    "            if t_p[tp+1] <= lesson[0]:\n",
    "                continue\n",
    "            elif t-p[tp+1] <= lesson[1]:\n",
    "                score += t_p[tp+1] - lesson[0]\n",
    "            else:\n",
    "                score += lesson[1] - lesson[0]\n",
    "                \n",
    "        elif t_p[tp+1] < lesson[1]:\n",
    "            score += t_p[tp+1] - t_p[tp]\n",
    "        else:\n",
    "            score += lesson[1] - t_p[tp]\n",
    "            \n",
    "    return score"
   ]
  },
  {
   "cell_type": "code",
   "execution_count": 18,
   "metadata": {},
   "outputs": [
    {
     "data": {
      "text/plain": [
       "3117"
      ]
     },
     "execution_count": 18,
     "metadata": {},
     "output_type": "execute_result"
    }
   ],
   "source": [
    "appearance(intervals)"
   ]
  }
 ],
 "metadata": {
  "kernelspec": {
   "display_name": "Python 3",
   "language": "python",
   "name": "python3"
  },
  "language_info": {
   "codemirror_mode": {
    "name": "ipython",
    "version": 3
   },
   "file_extension": ".py",
   "mimetype": "text/x-python",
   "name": "python",
   "nbconvert_exporter": "python",
   "pygments_lexer": "ipython3",
   "version": "3.8.1"
  }
 },
 "nbformat": 4,
 "nbformat_minor": 4
}
